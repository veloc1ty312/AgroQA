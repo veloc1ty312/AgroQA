{
 "cells": [
  {
   "cell_type": "code",
   "execution_count": null,
   "id": "edec1567",
   "metadata": {},
   "outputs": [],
   "source": [
    "import os\n",
    "import sys\n",
    "import csv\n",
    "from pathlib import Path\n",
    "import requests, json"
   ]
  },
  {
   "cell_type": "code",
   "execution_count": 3,
   "id": "a2bcde7c",
   "metadata": {},
   "outputs": [],
   "source": [
    "_USE_FITZ = False\n",
    "try:\n",
    "    import fitz\n",
    "    _USE_FITZ = True\n",
    "except Exception:\n",
    "    try:\n",
    "        from pypdf import PdfReader\n",
    "    except Exception:\n",
    "        try:\n",
    "            from PyPDF2 import PdfReader\n",
    "        except Exception:\n",
    "            PdfReader = None\n",
    "\n",
    "def count_pages(pdf_path: Path) -> int:\n",
    "    pdf_path = Path(pdf_path)\n",
    "    if _USE_FITZ:\n",
    "        with fitz.open(pdf_path) as doc:\n",
    "            return len(doc)\n",
    "    if 'PdfReader' in globals() and PdfReader is not None:\n",
    "        with open(pdf_path, \"rb\") as f:\n",
    "            reader = PdfReader(f)\n",
    "            return len(reader.pages)\n",
    "    raise RuntimeError(\n",
    "        \"No PDF backend available. Install one of: PyMuPDF (`pip install pymupdf`) \"\n",
    "        \"or pypdf (`pip install pypdf`).\"\n",
    "    )"
   ]
  },
  {
   "cell_type": "code",
   "execution_count": 4,
   "id": "04d3f956",
   "metadata": {},
   "outputs": [
    {
     "name": "stdout",
     "output_type": "stream",
     "text": [
      "Scanned folder: C:\\Users\\kyler\\OneDrive\\Desktop\\AgroQA\\data\\raw\n",
      "- PDFs found:          24\n",
      "- Successfully read:   24\n",
      "- Failed to read:      0\n",
      "- TOTAL pages counted: 1,915\n"
     ]
    }
   ],
   "source": [
    "ROOT = Path(\"data/raw\")\n",
    "assert ROOT.exists(), f\"Expected folder not found: {ROOT.resolve()}\"\n",
    "\n",
    "rows = []\n",
    "errors = []\n",
    "\n",
    "for p in ROOT.rglob(\"*.pdf\"):\n",
    "    try:\n",
    "        n = count_pages(p)\n",
    "        rows.append({\"file\": str(p.relative_to(ROOT)), \"pages\": n})\n",
    "    except Exception as e:\n",
    "        errors.append({\"file\": str(p.relative_to(ROOT)), \"error\": repr(e)})\n",
    "\n",
    "total_files = len(rows) + len(errors)\n",
    "total_pages = sum(r[\"pages\"] for r in rows)\n",
    "\n",
    "print(f\"Scanned folder: {ROOT.resolve()}\")\n",
    "print(f\"- PDFs found:          {total_files}\")\n",
    "print(f\"- Successfully read:   {len(rows)}\")\n",
    "print(f\"- Failed to read:      {len(errors)}\")\n",
    "print(f\"- TOTAL pages counted: {total_pages:,}\")"
   ]
  },
  {
   "cell_type": "code",
   "execution_count": null,
   "id": "58f889aa",
   "metadata": {},
   "outputs": [
    {
     "name": "stdout",
     "output_type": "stream",
     "text": [
      "ANSWER:\n",
      " You should start irrigating V6 corn in hot, dry weather when you observe signs of water stress, particularly during the reproductive stage when temperatures and solar radiation are high. According to observations, \"visual water stress on the deficit irrigated corn plants\" can occur during the middle and late periods of the growing season under such conditions [4]. Additionally, well-managed irrigated corn can yield \"10 to 15 bushels for each inch of water\" applied, indicating the importance of timely irrigation for maximizing yield [5].\n",
      "\n",
      "CITATIONS (top-k):\n",
      "  [1] 007_corn-production-handbook_C560.pdf  page=44  score=0.748\n",
      "  [2] 007_corn-production-handbook_C560.pdf  page=42  score=0.743\n",
      "  [3] 007_corn-production-handbook_C560.pdf  page=10  score=0.738\n",
      "  [4] 010_Applied_20Engg_2022-4_20On-farm_20Scheduling.pdf  page=5  score=0.731\n",
      "  [5] 007_corn-production-handbook_C560.pdf  page=35  score=0.729\n",
      "\n",
      "FILTERED (source=007_corn-production-handbook_C560.pdf) CITATIONS:\n",
      "  [1] 007_corn-production-handbook_C560.pdf  page=38  score=0.825\n",
      "  [2] 007_corn-production-handbook_C560.pdf  page=38  score=0.801\n",
      "  [3] 007_corn-production-handbook_C560.pdf  page=39  score=0.798\n",
      "  [4] 007_corn-production-handbook_C560.pdf  page=38  score=0.775\n",
      "  [5] 007_corn-production-handbook_C560.pdf  page=34  score=0.771\n"
     ]
    }
   ],
   "source": [
    "URL = \"http://localhost:8000/chat\"\n",
    "\n",
    "def ask(q, k=5, filters=None, mode=\"short\"):\n",
    "    payload = {\"q\": q, \"k\": k, \"mode\": mode}\n",
    "    if filters: payload[\"filters\"] = filters\n",
    "    r = requests.post(URL, json=payload, timeout=60)\n",
    "    r.raise_for_status()\n",
    "    return r.json()\n",
    "\n",
    "# no filters\n",
    "resp = ask(\"When should I start irrigating V6 corn in hot, dry weather?\", k=5)\n",
    "print(\"ANSWER:\\n\", resp.get(\"answer\", \"\"))\n",
    "print(\"\\nCITATIONS (top-k):\")\n",
    "for c in resp.get(\"citations\", []):\n",
    "    print(f\"  [{c['idx']}] {c['source']}  page={c['page']}  score={c['score']:.3f}\")\n",
    "\n",
    "# with file filter\n",
    "resp = ask(\n",
    "    \"Irrigation scheduling steps for corn\",\n",
    "    k=5,\n",
    "    filters={\"source\":\"007_corn-production-handbook_C560.pdf\"}\n",
    ")\n",
    "print(\"\\nFILTERED (source=007_corn-production-handbook_C560.pdf) CITATIONS:\")\n",
    "for c in resp.get(\"citations\", []):\n",
    "    print(f\"  [{c['idx']}] {c['source']}  page={c['page']}  score={c['score']:.3f}\")\n"
   ]
  },
  {
   "cell_type": "code",
   "execution_count": null,
   "id": "d8456196",
   "metadata": {},
   "outputs": [
    {
     "name": "stdout",
     "output_type": "stream",
     "text": [
      "200 {\n",
      "  \"answer\": \"The Kansas State Corn Production Handbook emphasizes the importance of effective irrigation scheduling to optimize corn yields. It advises against relying on visible signs of water stress, stating that \\\"watching for stress signs in corn is the poorest of methods for scheduling\\\" as damage occurs before these signs are evident [1], [2]. Instead, it recommends methods such as direct \n"
     ]
    }
   ],
   "source": [
    "r = requests.post(\"http://localhost:8000/chat\",\n",
    "                  json={\"q\":\"Summarize key irrigation scheduling recommendations specifically from the Kansas State Corn Production Handbook.\",\n",
    "                        \"k\":5,\n",
    "                        \"filters\":{\"$and\":[{\"source\":{\"$contains\":\"C560.pdf\"}}]}})\n",
    "print(r.status_code, r.text[:400])"
   ]
  }
 ],
 "metadata": {
  "kernelspec": {
   "display_name": "Python 3",
   "language": "python",
   "name": "python3"
  },
  "language_info": {
   "codemirror_mode": {
    "name": "ipython",
    "version": 3
   },
   "file_extension": ".py",
   "mimetype": "text/x-python",
   "name": "python",
   "nbconvert_exporter": "python",
   "pygments_lexer": "ipython3",
   "version": "3.10.11"
  }
 },
 "nbformat": 4,
 "nbformat_minor": 5
}
